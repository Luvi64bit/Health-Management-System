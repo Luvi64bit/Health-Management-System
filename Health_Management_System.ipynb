{
  "nbformat": 4,
  "nbformat_minor": 0,
  "metadata": {
    "colab": {
      "provenance": []
    },
    "kernelspec": {
      "name": "python3",
      "display_name": "Python 3"
    },
    "language_info": {
      "name": "python"
    }
  },
  "cells": [
    {
      "cell_type": "code",
      "execution_count": null,
      "metadata": {
        "id": "YDY5s8RYo1-m"
      },
      "outputs": [],
      "source": []
    },
    {
      "cell_type": "code",
      "source": [
        "import os\n",
        "import datetime\n",
        "\n",
        "u = 0\n",
        "while(u != 1):\n",
        "  # User chooses between Clint, Loki, or quitting the program\n",
        "  u = input(\"Choose 1. For_Clint 2. For_Loki q. To_quit: \")\n",
        "  \n",
        "  # Invalid input check\n",
        "  if u not in ['1', '2', 'q']:\n",
        "    print(\"Wrong input \\n\")\n",
        "    continue\n",
        "  \n",
        "  # Quit the program if 'q' is entered\n",
        "  if u == 'q':\n",
        "    break\n",
        "\n",
        "  # Assign 'Clint' or 'Loki' based on user input\n",
        "  elif u == '1':\n",
        "    v = 'Clint'\n",
        "  else:\n",
        "    v = 'Loki'  \n",
        "\n",
        "  t = 0\n",
        "  while(t != 1):\n",
        "    # User chooses between diet, exercise, or going back\n",
        "    t = input(\"1. Diet 2. Exercise 3. Goto_prev: \")\n",
        "    \n",
        "    # Invalid input check\n",
        "    if t not in ['1', '2', '3']:\n",
        "      print(\"Wrong input \\n\")\n",
        "      continue\n",
        "    \n",
        "    # Break the loop and go back if '3' is entered\n",
        "    break if t == '3' else name = f\"{v}_Diet\" if t == '1' else name = f\"{v}_Exercise\" \n",
        "    \n",
        "    # Print the current selection\n",
        "    print(name)\n",
        "    \n",
        "    ent = 0\n",
        "    while(ent != 1):\n",
        "      # User chooses between adding data, reading data, or going back\n",
        "      ent = input(\"1. To_add 2. To_read 3. Goto_prev: \")\n",
        "      \n",
        "      # Invalid input check\n",
        "      if ent not in ['1', '2', '3']:\n",
        "        print(\"Wrong input \\n\")\n",
        "        continue\n",
        "      \n",
        "      # Get the current date and time\n",
        "      dt = datetime.datetime.now().strftime(\" %D %H:%M:%S\")\n",
        "      \n",
        "      # Break the loop and go back if '3' is entered\n",
        "      if ent == '3':\n",
        "        break\n",
        "      \n",
        "      # Add data to the file\n",
        "      if ent == '1':\n",
        "        n = input(\"Enter what you want to add: \")\n",
        "        if os.path.exists(f'/content/Health Data/{name}.txt'):\n",
        "          f = open(f'/content/Health Data/{name}.txt', 'a')\n",
        "        else:\n",
        "          f = open(f'/content/Health Data/{name}.txt', 'x')\n",
        "        f.write(f\"{dt}:{n}\\n\")\n",
        "        f.close()\n",
        "        continue\n",
        "      \n",
        "      # Read data from the file\n",
        "      if ent == '2':\n",
        "        f = open(f'/content/Health Data/{name}.txt', 'r')\n",
        "        print(f.read())\n",
        "        f.close()\n",
        "\n",
        "  \n",
        "   "
      ],
      "metadata": {
        "id": "ns5fy2z5pANo"
      },
      "execution_count": null,
      "outputs": []
    }
  ]
}